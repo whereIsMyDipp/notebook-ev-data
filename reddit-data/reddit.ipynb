{
 "cells": [
  {
   "cell_type": "markdown",
   "metadata": {},
   "source": [
    "# Using notebooks"
   ]
  },
  {
   "cell_type": "code",
   "execution_count": 7,
   "metadata": {},
   "outputs": [
    {
     "data": {
      "text/plain": "                                                title  score      id  \\\n0   Really loving the Ami as a concept, it's nice ...      1  jtmkw3   \n1   Mounted an LED bar on my Nissan Leaf, anyone e...      0  jtmala   \n2       Ionity hit 300 open locations in Europe today     12  jtlw0i   \n3   Bolt EV recall - select 2017-2019 models, FIRE...     13  jtlt09   \n4            GM recalling Chevy Bolt EVs due to Fires     24  jtl3iy   \n5   Electrifying Freight: Pathways to Accelerating...      3  jtkvjg   \n6   BYD Already Produced 20,000 Han With Blade Bat...      5  jtkjep   \n7   VW hints at \"Aero B Shooting Brake\" as new MEB...      6  jtjc7f   \n8     I Built an Electric Scooter for my Daily Driver     58  jtj6tk   \n9   Volk­swa­gen Group raises in­vest­ments in fu­...     28  jti043   \n10  The brand new FIAT 500e Cabrio is a real and n...     24  jthwzd   \n11                 Teslabjorn: Mazda MX-30 range test     11  jthkxq   \n12  VW Group confirms ID Aero is scheduled to star...     11  jth52t   \n13                            2 Taycan in front of me     74  jteppm   \n14  Transportation Electrification – Oncor’s Effor...      1  jtfos5   \n15               The Ford EV family is growing fast..    326  jtfd2p   \n16  UK : Can I run a cable to charge an electric c...     16  jtdk08   \n17  Chevy might support the aftermarket with Crate...      7  jt5x9f   \n18  NY Gov Cuomo Announces $11 Million in Volkswag...     18  jt6cb5   \n19  Why is the US Audi e-tron 1.1 second faster th...      0  jspd3q   \n\n                                                  url  comms_num  \\\n0   https://www.autocar.co.uk/car-news/new-cars/ci...          0   \n1                        https://youtu.be/SBs5qJFJudI          1   \n2                     https://i.imgur.com/LibrXjw.png          0   \n3   https://my.chevrolet.com/how-to-support/safety...          0   \n4   https://www.cnbc.com/2020/11/13/gm-recalling-c...          8   \n5   https://www.greencarcongress.com/2020/11/20201...          0   \n6   https://insideevs.com/news/454223/byd-produced...          3   \n7   https://www.elektroauto-news.net/2020/aero-b-s...         10   \n8                 https://i.redd.it/zbhlfctvd1z51.jpg         17   \n9                 https://i.redd.it/3ly0onrc31z51.jpg          4   \n10                https://i.redd.it/rdva2m5h21z51.jpg          4   \n11        https://www.youtube.com/watch?v=o-9EDOik-MQ          3   \n12                https://i.redd.it/kc3p0ruav0z51.jpg         13   \n13                    https://i.imgur.com/utnlUHF.jpg         23   \n14  https://energycentral.com/c/pip/transportation...          1   \n15                https://i.redd.it/4ahqjdlcszy51.jpg        182   \n16  https://www.thisismoney.co.uk/money/cars/artic...         11   \n17  https://media.chevrolet.com/media/us/en/chevro...          0   \n18  https://www.governor.ny.gov/news/governor-cuom...          9   \n19              https://www.reddit.com/gallery/jspd3q          3   \n\n         created body  \n0   1.605325e+09       \n1   1.605324e+09       \n2   1.605323e+09       \n3   1.605323e+09       \n4   1.605321e+09       \n5   1.605320e+09       \n6   1.605319e+09       \n7   1.605315e+09       \n8   1.605315e+09       \n9   1.605311e+09       \n10  1.605311e+09       \n11  1.605310e+09       \n12  1.605309e+09       \n13  1.605292e+09       \n14  1.605297e+09       \n15  1.605295e+09       \n16  1.605285e+09       \n17  1.605253e+09       \n18  1.605254e+09       \n19  1.605189e+09       ",
      "text/html": "<div>\n<style scoped>\n    .dataframe tbody tr th:only-of-type {\n        vertical-align: middle;\n    }\n\n    .dataframe tbody tr th {\n        vertical-align: top;\n    }\n\n    .dataframe thead th {\n        text-align: right;\n    }\n</style>\n<table border=\"1\" class=\"dataframe\">\n  <thead>\n    <tr style=\"text-align: right;\">\n      <th></th>\n      <th>title</th>\n      <th>score</th>\n      <th>id</th>\n      <th>url</th>\n      <th>comms_num</th>\n      <th>created</th>\n      <th>body</th>\n    </tr>\n  </thead>\n  <tbody>\n    <tr>\n      <th>0</th>\n      <td>Really loving the Ami as a concept, it's nice ...</td>\n      <td>1</td>\n      <td>jtmkw3</td>\n      <td>https://www.autocar.co.uk/car-news/new-cars/ci...</td>\n      <td>0</td>\n      <td>1.605325e+09</td>\n      <td></td>\n    </tr>\n    <tr>\n      <th>1</th>\n      <td>Mounted an LED bar on my Nissan Leaf, anyone e...</td>\n      <td>0</td>\n      <td>jtmala</td>\n      <td>https://youtu.be/SBs5qJFJudI</td>\n      <td>1</td>\n      <td>1.605324e+09</td>\n      <td></td>\n    </tr>\n    <tr>\n      <th>2</th>\n      <td>Ionity hit 300 open locations in Europe today</td>\n      <td>12</td>\n      <td>jtlw0i</td>\n      <td>https://i.imgur.com/LibrXjw.png</td>\n      <td>0</td>\n      <td>1.605323e+09</td>\n      <td></td>\n    </tr>\n    <tr>\n      <th>3</th>\n      <td>Bolt EV recall - select 2017-2019 models, FIRE...</td>\n      <td>13</td>\n      <td>jtlt09</td>\n      <td>https://my.chevrolet.com/how-to-support/safety...</td>\n      <td>0</td>\n      <td>1.605323e+09</td>\n      <td></td>\n    </tr>\n    <tr>\n      <th>4</th>\n      <td>GM recalling Chevy Bolt EVs due to Fires</td>\n      <td>24</td>\n      <td>jtl3iy</td>\n      <td>https://www.cnbc.com/2020/11/13/gm-recalling-c...</td>\n      <td>8</td>\n      <td>1.605321e+09</td>\n      <td></td>\n    </tr>\n    <tr>\n      <th>5</th>\n      <td>Electrifying Freight: Pathways to Accelerating...</td>\n      <td>3</td>\n      <td>jtkvjg</td>\n      <td>https://www.greencarcongress.com/2020/11/20201...</td>\n      <td>0</td>\n      <td>1.605320e+09</td>\n      <td></td>\n    </tr>\n    <tr>\n      <th>6</th>\n      <td>BYD Already Produced 20,000 Han With Blade Bat...</td>\n      <td>5</td>\n      <td>jtkjep</td>\n      <td>https://insideevs.com/news/454223/byd-produced...</td>\n      <td>3</td>\n      <td>1.605319e+09</td>\n      <td></td>\n    </tr>\n    <tr>\n      <th>7</th>\n      <td>VW hints at \"Aero B Shooting Brake\" as new MEB...</td>\n      <td>6</td>\n      <td>jtjc7f</td>\n      <td>https://www.elektroauto-news.net/2020/aero-b-s...</td>\n      <td>10</td>\n      <td>1.605315e+09</td>\n      <td></td>\n    </tr>\n    <tr>\n      <th>8</th>\n      <td>I Built an Electric Scooter for my Daily Driver</td>\n      <td>58</td>\n      <td>jtj6tk</td>\n      <td>https://i.redd.it/zbhlfctvd1z51.jpg</td>\n      <td>17</td>\n      <td>1.605315e+09</td>\n      <td></td>\n    </tr>\n    <tr>\n      <th>9</th>\n      <td>Volk­swa­gen Group raises in­vest­ments in fu­...</td>\n      <td>28</td>\n      <td>jti043</td>\n      <td>https://i.redd.it/3ly0onrc31z51.jpg</td>\n      <td>4</td>\n      <td>1.605311e+09</td>\n      <td></td>\n    </tr>\n    <tr>\n      <th>10</th>\n      <td>The brand new FIAT 500e Cabrio is a real and n...</td>\n      <td>24</td>\n      <td>jthwzd</td>\n      <td>https://i.redd.it/rdva2m5h21z51.jpg</td>\n      <td>4</td>\n      <td>1.605311e+09</td>\n      <td></td>\n    </tr>\n    <tr>\n      <th>11</th>\n      <td>Teslabjorn: Mazda MX-30 range test</td>\n      <td>11</td>\n      <td>jthkxq</td>\n      <td>https://www.youtube.com/watch?v=o-9EDOik-MQ</td>\n      <td>3</td>\n      <td>1.605310e+09</td>\n      <td></td>\n    </tr>\n    <tr>\n      <th>12</th>\n      <td>VW Group confirms ID Aero is scheduled to star...</td>\n      <td>11</td>\n      <td>jth52t</td>\n      <td>https://i.redd.it/kc3p0ruav0z51.jpg</td>\n      <td>13</td>\n      <td>1.605309e+09</td>\n      <td></td>\n    </tr>\n    <tr>\n      <th>13</th>\n      <td>2 Taycan in front of me</td>\n      <td>74</td>\n      <td>jteppm</td>\n      <td>https://i.imgur.com/utnlUHF.jpg</td>\n      <td>23</td>\n      <td>1.605292e+09</td>\n      <td></td>\n    </tr>\n    <tr>\n      <th>14</th>\n      <td>Transportation Electrification – Oncor’s Effor...</td>\n      <td>1</td>\n      <td>jtfos5</td>\n      <td>https://energycentral.com/c/pip/transportation...</td>\n      <td>1</td>\n      <td>1.605297e+09</td>\n      <td></td>\n    </tr>\n    <tr>\n      <th>15</th>\n      <td>The Ford EV family is growing fast..</td>\n      <td>326</td>\n      <td>jtfd2p</td>\n      <td>https://i.redd.it/4ahqjdlcszy51.jpg</td>\n      <td>182</td>\n      <td>1.605295e+09</td>\n      <td></td>\n    </tr>\n    <tr>\n      <th>16</th>\n      <td>UK : Can I run a cable to charge an electric c...</td>\n      <td>16</td>\n      <td>jtdk08</td>\n      <td>https://www.thisismoney.co.uk/money/cars/artic...</td>\n      <td>11</td>\n      <td>1.605285e+09</td>\n      <td></td>\n    </tr>\n    <tr>\n      <th>17</th>\n      <td>Chevy might support the aftermarket with Crate...</td>\n      <td>7</td>\n      <td>jt5x9f</td>\n      <td>https://media.chevrolet.com/media/us/en/chevro...</td>\n      <td>0</td>\n      <td>1.605253e+09</td>\n      <td></td>\n    </tr>\n    <tr>\n      <th>18</th>\n      <td>NY Gov Cuomo Announces $11 Million in Volkswag...</td>\n      <td>18</td>\n      <td>jt6cb5</td>\n      <td>https://www.governor.ny.gov/news/governor-cuom...</td>\n      <td>9</td>\n      <td>1.605254e+09</td>\n      <td></td>\n    </tr>\n    <tr>\n      <th>19</th>\n      <td>Why is the US Audi e-tron 1.1 second faster th...</td>\n      <td>0</td>\n      <td>jspd3q</td>\n      <td>https://www.reddit.com/gallery/jspd3q</td>\n      <td>3</td>\n      <td>1.605189e+09</td>\n      <td></td>\n    </tr>\n  </tbody>\n</table>\n</div>"
     },
     "execution_count": 7,
     "metadata": {},
     "output_type": "execute_result"
    }
   ],
   "source": [
    "import praw\n",
    "import pandas as pd\n",
    "import datetime as dt\n",
    "import config as cfg\n",
    "\n",
    "reddit = praw.Reddit(client_id=cfg.cred['client_id'],\n",
    "                     client_secret=cfg.cred['client_secret'],\n",
    "                     user_agent=cfg.cred['user_agent'],\n",
    "                     username=cfg.cred['username'],\n",
    "                     password=cfg.cred['password'])\n",
    "\n",
    "topics_dict = { \"title\":[],\n",
    "                \"score\":[],\n",
    "                \"id\":[], \"url\":[],\n",
    "                \"comms_num\": [],\n",
    "                \"created\": [],\n",
    "                \"body\":[]}\n",
    "\n",
    "\n",
    "subreddit = reddit.subreddit('electricvehicles')\n",
    "\n",
    "for submission in subreddit.new(limit=20):\n",
    "    topics_dict[\"title\"].append(submission.title)\n",
    "    topics_dict[\"score\"].append(submission.score)\n",
    "    topics_dict[\"id\"].append(submission.id)\n",
    "    topics_dict[\"url\"].append(submission.url)\n",
    "    topics_dict[\"comms_num\"].append(submission.num_comments)\n",
    "    topics_dict[\"created\"].append(submission.created)\n",
    "    topics_dict[\"body\"].append(submission.selftext)\n",
    "\n",
    "topics_data = pd.DataFrame(topics_dict)\n",
    "\n",
    "topics_data.head(20)"
   ]
  },
  {
   "cell_type": "markdown",
   "source": [],
   "metadata": {
    "collapsed": false,
    "pycharm": {
     "name": "#%% md\n"
    }
   }
  }
 ],
 "metadata": {
  "kernelspec": {
   "display_name": "Python 3",
   "language": "python",
   "name": "python3"
  },
  "language_info": {
   "codemirror_mode": {
    "name": "ipython",
    "version": 3
   },
   "file_extension": ".py",
   "mimetype": "text/x-python",
   "name": "python",
   "nbconvert_exporter": "python",
   "pygments_lexer": "ipython3",
   "version": "3.7.7"
  }
 },
 "nbformat": 4,
 "nbformat_minor": 4
}