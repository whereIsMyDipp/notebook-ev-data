{
 "cells": [
  {
   "cell_type": "markdown",
   "metadata": {},
   "source": [
    "# Using notebooks"
   ]
  },
  {
   "cell_type": "code",
   "execution_count": 138,
   "metadata": {},
   "outputs": [],
   "source": [
    "%matplotlib inline\n",
    "import numpy as np\n",
    "import pandas as pd\n",
    "import matplotlib.pyplot as plt\n",
    "import seaborn as sns\n",
    "import random\n",
    "sns.set_theme(style=\"darkgrid\")"
   ]
  },
  {
   "cell_type": "markdown",
   "source": [
    "#### Import all necessary data from the kba website."
   ],
   "metadata": {
    "collapsed": false
   }
  },
  {
   "cell_type": "code",
   "execution_count": 139,
   "metadata": {
    "pycharm": {
     "name": "#%%\n"
    }
   },
   "outputs": [
    {
     "data": {
      "text/plain": "                   Marke Marke/Modellreihe  Oktober 2020  Jan.-\\nOktober 2020  \\\n0             ALFA ROMEO     ALFA GIULIETTA           83                  474   \n1                    NaN             GIULIA          100                  788   \n2                    NaN            STELVIO          176                 1241   \n3    ALFA ROMEO ZUSAMMEN                NaN          359                 2503   \n4                 ALPINE               A110           10                  143   \n5        ALPINE ZUSAMMEN                NaN           10                  143   \n6           ASTON MARTIN                DBX           11                   23   \n7                    NaN               DB11           10                  151   \n8                    NaN           SONSTIGE            5                   44   \n9  ASTON MARTIN ZUSAMMEN                NaN           26                  218   \n\n   Anteil \\nin % Oktober 2020.3 Jan.-\\nOktober 2020.3 Anteil \\nin %.3  \n0           18.9              -                     -               -  \n1           31.5              -                     -               -  \n2           49.6              -                     -               -  \n3            0.1              -                     -               -  \n4          100.0              -                     -               -  \n5            0.0              -                     -               -  \n6           10.6              -                     -               -  \n7           69.3              -                     -               -  \n8           20.2              -                     -               -  \n9            0.0              -                     -               -  ",
      "text/html": "<div>\n<style scoped>\n    .dataframe tbody tr th:only-of-type {\n        vertical-align: middle;\n    }\n\n    .dataframe tbody tr th {\n        vertical-align: top;\n    }\n\n    .dataframe thead th {\n        text-align: right;\n    }\n</style>\n<table border=\"1\" class=\"dataframe\">\n  <thead>\n    <tr style=\"text-align: right;\">\n      <th></th>\n      <th>Marke</th>\n      <th>Marke/Modellreihe</th>\n      <th>Oktober 2020</th>\n      <th>Jan.-\\nOktober 2020</th>\n      <th>Anteil \\nin %</th>\n      <th>Oktober 2020.3</th>\n      <th>Jan.-\\nOktober 2020.3</th>\n      <th>Anteil \\nin %.3</th>\n    </tr>\n  </thead>\n  <tbody>\n    <tr>\n      <th>0</th>\n      <td>ALFA ROMEO</td>\n      <td>ALFA GIULIETTA</td>\n      <td>83</td>\n      <td>474</td>\n      <td>18.9</td>\n      <td>-</td>\n      <td>-</td>\n      <td>-</td>\n    </tr>\n    <tr>\n      <th>1</th>\n      <td>NaN</td>\n      <td>GIULIA</td>\n      <td>100</td>\n      <td>788</td>\n      <td>31.5</td>\n      <td>-</td>\n      <td>-</td>\n      <td>-</td>\n    </tr>\n    <tr>\n      <th>2</th>\n      <td>NaN</td>\n      <td>STELVIO</td>\n      <td>176</td>\n      <td>1241</td>\n      <td>49.6</td>\n      <td>-</td>\n      <td>-</td>\n      <td>-</td>\n    </tr>\n    <tr>\n      <th>3</th>\n      <td>ALFA ROMEO ZUSAMMEN</td>\n      <td>NaN</td>\n      <td>359</td>\n      <td>2503</td>\n      <td>0.1</td>\n      <td>-</td>\n      <td>-</td>\n      <td>-</td>\n    </tr>\n    <tr>\n      <th>4</th>\n      <td>ALPINE</td>\n      <td>A110</td>\n      <td>10</td>\n      <td>143</td>\n      <td>100.0</td>\n      <td>-</td>\n      <td>-</td>\n      <td>-</td>\n    </tr>\n    <tr>\n      <th>5</th>\n      <td>ALPINE ZUSAMMEN</td>\n      <td>NaN</td>\n      <td>10</td>\n      <td>143</td>\n      <td>0.0</td>\n      <td>-</td>\n      <td>-</td>\n      <td>-</td>\n    </tr>\n    <tr>\n      <th>6</th>\n      <td>ASTON MARTIN</td>\n      <td>DBX</td>\n      <td>11</td>\n      <td>23</td>\n      <td>10.6</td>\n      <td>-</td>\n      <td>-</td>\n      <td>-</td>\n    </tr>\n    <tr>\n      <th>7</th>\n      <td>NaN</td>\n      <td>DB11</td>\n      <td>10</td>\n      <td>151</td>\n      <td>69.3</td>\n      <td>-</td>\n      <td>-</td>\n      <td>-</td>\n    </tr>\n    <tr>\n      <th>8</th>\n      <td>NaN</td>\n      <td>SONSTIGE</td>\n      <td>5</td>\n      <td>44</td>\n      <td>20.2</td>\n      <td>-</td>\n      <td>-</td>\n      <td>-</td>\n    </tr>\n    <tr>\n      <th>9</th>\n      <td>ASTON MARTIN ZUSAMMEN</td>\n      <td>NaN</td>\n      <td>26</td>\n      <td>218</td>\n      <td>0.0</td>\n      <td>-</td>\n      <td>-</td>\n      <td>-</td>\n    </tr>\n  </tbody>\n</table>\n</div>"
     },
     "execution_count": 139,
     "metadata": {},
     "output_type": "execute_result"
    }
   ],
   "source": [
    "cols2skip = [0,6,7,8,9,10,11,15,16,17,18,19,20] #cut out the excel sheet\n",
    "cols = [i for i in range(100) if i not in cols2skip]\n",
    "df = pd.read_excel(\"fz10_2020_10_xlsx.xlsx\",sheet_name=\"FZ10.1\",skiprows=8, usecols=cols, skipfooter=8)\n",
    "\n",
    "df.head(10)"
   ]
  }
 ],
 "metadata": {
  "kernelspec": {
   "display_name": "Python 3",
   "language": "python",
   "name": "python3"
  },
  "language_info": {
   "codemirror_mode": {
    "name": "ipython",
    "version": 3
   },
   "file_extension": ".py",
   "mimetype": "text/x-python",
   "name": "python",
   "nbconvert_exporter": "python",
   "pygments_lexer": "ipython3",
   "version": "3.7.7"
  }
 },
 "nbformat": 4,
 "nbformat_minor": 4
}