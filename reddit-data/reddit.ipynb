{
 "cells": [
  {
   "cell_type": "markdown",
   "metadata": {},
   "source": [
    "# Using notebooks"
   ]
  },
  {
   "cell_type": "code",
   "execution_count": 3,
   "metadata": {},
   "outputs": [
    {
     "data": {
      "text/plain": "                                               title  score      id  \\\n0  Really loving the Ami as a concept, it's nice ...      1  jtmkw3   \n1  Mounted an LED bar on my Nissan Leaf, anyone e...      0  jtmala   \n2      Ionity hit 300 open locations in Europe today     12  jtlw0i   \n3  Bolt EV recall - select 2017-2019 models, FIRE...     11  jtlt09   \n4           GM recalling Chevy Bolt EVs due to Fires     23  jtl3iy   \n\n                                                 url  comms_num       created  \\\n0  https://www.autocar.co.uk/car-news/new-cars/ci...          0  1.605325e+09   \n1                       https://youtu.be/SBs5qJFJudI          1  1.605324e+09   \n2                    https://i.imgur.com/LibrXjw.png          0  1.605323e+09   \n3  https://my.chevrolet.com/how-to-support/safety...          0  1.605323e+09   \n4  https://www.cnbc.com/2020/11/13/gm-recalling-c...          8  1.605321e+09   \n\n  body  \n0       \n1       \n2       \n3       \n4       ",
      "text/html": "<div>\n<style scoped>\n    .dataframe tbody tr th:only-of-type {\n        vertical-align: middle;\n    }\n\n    .dataframe tbody tr th {\n        vertical-align: top;\n    }\n\n    .dataframe thead th {\n        text-align: right;\n    }\n</style>\n<table border=\"1\" class=\"dataframe\">\n  <thead>\n    <tr style=\"text-align: right;\">\n      <th></th>\n      <th>title</th>\n      <th>score</th>\n      <th>id</th>\n      <th>url</th>\n      <th>comms_num</th>\n      <th>created</th>\n      <th>body</th>\n    </tr>\n  </thead>\n  <tbody>\n    <tr>\n      <th>0</th>\n      <td>Really loving the Ami as a concept, it's nice ...</td>\n      <td>1</td>\n      <td>jtmkw3</td>\n      <td>https://www.autocar.co.uk/car-news/new-cars/ci...</td>\n      <td>0</td>\n      <td>1.605325e+09</td>\n      <td></td>\n    </tr>\n    <tr>\n      <th>1</th>\n      <td>Mounted an LED bar on my Nissan Leaf, anyone e...</td>\n      <td>0</td>\n      <td>jtmala</td>\n      <td>https://youtu.be/SBs5qJFJudI</td>\n      <td>1</td>\n      <td>1.605324e+09</td>\n      <td></td>\n    </tr>\n    <tr>\n      <th>2</th>\n      <td>Ionity hit 300 open locations in Europe today</td>\n      <td>12</td>\n      <td>jtlw0i</td>\n      <td>https://i.imgur.com/LibrXjw.png</td>\n      <td>0</td>\n      <td>1.605323e+09</td>\n      <td></td>\n    </tr>\n    <tr>\n      <th>3</th>\n      <td>Bolt EV recall - select 2017-2019 models, FIRE...</td>\n      <td>11</td>\n      <td>jtlt09</td>\n      <td>https://my.chevrolet.com/how-to-support/safety...</td>\n      <td>0</td>\n      <td>1.605323e+09</td>\n      <td></td>\n    </tr>\n    <tr>\n      <th>4</th>\n      <td>GM recalling Chevy Bolt EVs due to Fires</td>\n      <td>23</td>\n      <td>jtl3iy</td>\n      <td>https://www.cnbc.com/2020/11/13/gm-recalling-c...</td>\n      <td>8</td>\n      <td>1.605321e+09</td>\n      <td></td>\n    </tr>\n  </tbody>\n</table>\n</div>"
     },
     "execution_count": 3,
     "metadata": {},
     "output_type": "execute_result"
    }
   ],
   "source": [
    "import praw\n",
    "import pandas as pd\n",
    "import datetime as dt\n",
    "import config as cfg\n",
    "\n",
    "reddit = praw.Reddit(client_id=cfg.cred['client_id'],\n",
    "                     client_secret=cfg.cred['client_secret'],\n",
    "                     user_agent=cfg.cred['user_agent'],\n",
    "                     username=cfg.cred['username'],\n",
    "                     password=cfg.cred['password'])\n",
    "\n",
    "topics_dict = { \"title\":[], \\\n",
    "                \"score\":[], \\\n",
    "                \"id\":[], \"url\":[], \\\n",
    "                \"comms_num\": [], \\\n",
    "                \"created\": [], \\\n",
    "                \"body\":[]}\n",
    "\n",
    "\n",
    "subreddit = reddit.subreddit('electricvehicles')\n",
    "\n",
    "for submission in subreddit.new(limit=10):\n",
    "    topics_dict[\"title\"].append(submission.title)\n",
    "    topics_dict[\"score\"].append(submission.score)\n",
    "    topics_dict[\"id\"].append(submission.id)\n",
    "    topics_dict[\"url\"].append(submission.url)\n",
    "    topics_dict[\"comms_num\"].append(submission.num_comments)\n",
    "    topics_dict[\"created\"].append(submission.created)\n",
    "    topics_dict[\"body\"].append(submission.selftext)\n",
    "\n",
    "topics_data = pd.DataFrame(topics_dict)\n",
    "\n",
    "topics_data.head()"
   ]
  },
  {
   "cell_type": "markdown",
   "source": [],
   "metadata": {
    "collapsed": false,
    "pycharm": {
     "name": "#%% md\n"
    }
   }
  }
 ],
 "metadata": {
  "kernelspec": {
   "display_name": "Python 3",
   "language": "python",
   "name": "python3"
  },
  "language_info": {
   "codemirror_mode": {
    "name": "ipython",
    "version": 3
   },
   "file_extension": ".py",
   "mimetype": "text/x-python",
   "name": "python",
   "nbconvert_exporter": "python",
   "pygments_lexer": "ipython3",
   "version": "3.7.7"
  }
 },
 "nbformat": 4,
 "nbformat_minor": 4
}