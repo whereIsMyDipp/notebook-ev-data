{
 "cells": [
  {
   "cell_type": "markdown",
   "metadata": {},
   "source": [
    "# Using notebooks"
   ]
  },
  {
   "cell_type": "code",
   "execution_count": 88,
   "metadata": {},
   "outputs": [],
   "source": [
    "%matplotlib inline\n",
    "import numpy as np\n",
    "import pandas as pd\n",
    "import matplotlib.pyplot as plt\n",
    "import seaborn as sns\n",
    "import random\n",
    "sns.set_theme(style=\"darkgrid\")"
   ]
  },
  {
   "cell_type": "markdown",
   "source": [
    "#### Import all necessary data from the kba website."
   ],
   "metadata": {
    "collapsed": false
   }
  },
  {
   "cell_type": "code",
   "execution_count": 89,
   "metadata": {},
   "outputs": [
    {
     "data": {
      "text/plain": "                   Marke Marke/Modellreihe  Oktober 2020  Jan.-\\nOktober 2020  \\\n0             ALFA ROMEO     ALFA GIULIETTA           83                  474   \n1                    NaN             GIULIA          100                  788   \n2                    NaN            STELVIO          176                 1241   \n3    ALFA ROMEO ZUSAMMEN                NaN          359                 2503   \n4                 ALPINE               A110           10                  143   \n5        ALPINE ZUSAMMEN                NaN           10                  143   \n6           ASTON MARTIN                DBX           11                   23   \n7                    NaN               DB11           10                  151   \n8                    NaN           SONSTIGE            5                   44   \n9  ASTON MARTIN ZUSAMMEN                NaN           26                  218   \n\n   Anteil \\nin % Oktober 2020.3 Jan.-\\nOktober 2020.3 Anteil \\nin %.3  \n0           18.9              -                     -               -  \n1           31.5              -                     -               -  \n2           49.6              -                     -               -  \n3            0.1              -                     -               -  \n4          100.0              -                     -               -  \n5            0.0              -                     -               -  \n6           10.6              -                     -               -  \n7           69.3              -                     -               -  \n8           20.2              -                     -               -  \n9            0.0              -                     -               -  ",
      "text/html": "<div>\n<style scoped>\n    .dataframe tbody tr th:only-of-type {\n        vertical-align: middle;\n    }\n\n    .dataframe tbody tr th {\n        vertical-align: top;\n    }\n\n    .dataframe thead th {\n        text-align: right;\n    }\n</style>\n<table border=\"1\" class=\"dataframe\">\n  <thead>\n    <tr style=\"text-align: right;\">\n      <th></th>\n      <th>Marke</th>\n      <th>Marke/Modellreihe</th>\n      <th>Oktober 2020</th>\n      <th>Jan.-\\nOktober 2020</th>\n      <th>Anteil \\nin %</th>\n      <th>Oktober 2020.3</th>\n      <th>Jan.-\\nOktober 2020.3</th>\n      <th>Anteil \\nin %.3</th>\n    </tr>\n  </thead>\n  <tbody>\n    <tr>\n      <th>0</th>\n      <td>ALFA ROMEO</td>\n      <td>ALFA GIULIETTA</td>\n      <td>83</td>\n      <td>474</td>\n      <td>18.9</td>\n      <td>-</td>\n      <td>-</td>\n      <td>-</td>\n    </tr>\n    <tr>\n      <th>1</th>\n      <td>NaN</td>\n      <td>GIULIA</td>\n      <td>100</td>\n      <td>788</td>\n      <td>31.5</td>\n      <td>-</td>\n      <td>-</td>\n      <td>-</td>\n    </tr>\n    <tr>\n      <th>2</th>\n      <td>NaN</td>\n      <td>STELVIO</td>\n      <td>176</td>\n      <td>1241</td>\n      <td>49.6</td>\n      <td>-</td>\n      <td>-</td>\n      <td>-</td>\n    </tr>\n    <tr>\n      <th>3</th>\n      <td>ALFA ROMEO ZUSAMMEN</td>\n      <td>NaN</td>\n      <td>359</td>\n      <td>2503</td>\n      <td>0.1</td>\n      <td>-</td>\n      <td>-</td>\n      <td>-</td>\n    </tr>\n    <tr>\n      <th>4</th>\n      <td>ALPINE</td>\n      <td>A110</td>\n      <td>10</td>\n      <td>143</td>\n      <td>100.0</td>\n      <td>-</td>\n      <td>-</td>\n      <td>-</td>\n    </tr>\n    <tr>\n      <th>5</th>\n      <td>ALPINE ZUSAMMEN</td>\n      <td>NaN</td>\n      <td>10</td>\n      <td>143</td>\n      <td>0.0</td>\n      <td>-</td>\n      <td>-</td>\n      <td>-</td>\n    </tr>\n    <tr>\n      <th>6</th>\n      <td>ASTON MARTIN</td>\n      <td>DBX</td>\n      <td>11</td>\n      <td>23</td>\n      <td>10.6</td>\n      <td>-</td>\n      <td>-</td>\n      <td>-</td>\n    </tr>\n    <tr>\n      <th>7</th>\n      <td>NaN</td>\n      <td>DB11</td>\n      <td>10</td>\n      <td>151</td>\n      <td>69.3</td>\n      <td>-</td>\n      <td>-</td>\n      <td>-</td>\n    </tr>\n    <tr>\n      <th>8</th>\n      <td>NaN</td>\n      <td>SONSTIGE</td>\n      <td>5</td>\n      <td>44</td>\n      <td>20.2</td>\n      <td>-</td>\n      <td>-</td>\n      <td>-</td>\n    </tr>\n    <tr>\n      <th>9</th>\n      <td>ASTON MARTIN ZUSAMMEN</td>\n      <td>NaN</td>\n      <td>26</td>\n      <td>218</td>\n      <td>0.0</td>\n      <td>-</td>\n      <td>-</td>\n      <td>-</td>\n    </tr>\n  </tbody>\n</table>\n</div>"
     },
     "execution_count": 89,
     "metadata": {},
     "output_type": "execute_result"
    }
   ],
   "source": [
    "cols2skip = [0,6,7,8,9,10,11,15,16,17,18,19,20] #cut out the excel sheet\n",
    "cols = [i for i in range(100) if i not in cols2skip]\n",
    "df = pd.read_excel(\"fz10_2020_10_xlsx.xlsx\",sheet_name=\"FZ10.1\",skiprows=8, usecols=cols, skipfooter=8)\n",
    "\n",
    "df.head(10)"
   ]
  },
  {
   "cell_type": "markdown",
   "source": [
    "#### Cleanup"
   ],
   "metadata": {
    "collapsed": false
   }
  },
  {
   "cell_type": "code",
   "execution_count": 90,
   "outputs": [
    {
     "data": {
      "text/plain": "    manufacturer     model  all_oct  all_ytd  all_percent  ev_oct   ev_ytd  \\\n300      RENAULT       ZOE   5010.0    20740         21.3  5010.0  20740.0   \n380           VW      ID.3   2647.0     4910          1.2  2647.0   4910.0   \n119      HYUNDAI      KONA   3583.0    21910         26.6  1932.0   8542.0   \n326        SMART    FORTWO   1846.0     7050         70.8  1846.0   7038.0   \n379           VW      GOLF  11290.0   112313         27.1  1300.0  13845.0   \n17          AUDI    E-TRON   1202.0     6654          3.8  1202.0   6654.0   \n32           BMW        I3   1179.0     6091          3.2  1179.0   6090.0   \n255         OPEL     CORSA   7185.0    40731         36.3   998.0   3252.0   \n391           VW        UP   3058.0    18669          4.5   990.0   6977.0   \n230         MINI      MINI   4347.0    36033        100.0   710.0   3129.0   \n325        SMART   FORFOUR    595.0     2905         29.2   595.0   2902.0   \n315        SKODA    CITIGO    493.0     3656          2.5   493.0   3508.0   \n268      PEUGEOT       208   1043.0     7490         16.9   488.0   1286.0   \n201        MAZDA     MX-30    453.0     1033          3.2   453.0   1033.0   \n148          KIA      NIRO    858.0     6294         11.8   421.0   2844.0   \n220     MERCEDES  GLK, GLC   4172.0    32438         13.5   421.0   1784.0   \n284      PORSCHE    TAYCAN    373.0     2186         10.5   373.0   2186.0   \n311         SEAT       MII    269.0     1510          1.6   269.0   1229.0   \n243       NISSAN      LEAF    263.0     2126          7.6   263.0   2126.0   \n271      PEUGEOT      2008    947.0     5820         13.1   186.0    339.0   \n\n     ev_percent  \n300       100.0  \n380        18.3  \n119        83.1  \n326        70.8  \n379        51.7  \n17         97.4  \n32         99.4  \n255        82.9  \n391        26.1  \n230       100.0  \n325        29.2  \n315        99.9  \n268        72.0  \n201        97.3  \n148        59.0  \n220        91.5  \n284       100.0  \n311       100.0  \n243        84.4  \n271        19.0  ",
      "text/html": "<div>\n<style scoped>\n    .dataframe tbody tr th:only-of-type {\n        vertical-align: middle;\n    }\n\n    .dataframe tbody tr th {\n        vertical-align: top;\n    }\n\n    .dataframe thead th {\n        text-align: right;\n    }\n</style>\n<table border=\"1\" class=\"dataframe\">\n  <thead>\n    <tr style=\"text-align: right;\">\n      <th></th>\n      <th>manufacturer</th>\n      <th>model</th>\n      <th>all_oct</th>\n      <th>all_ytd</th>\n      <th>all_percent</th>\n      <th>ev_oct</th>\n      <th>ev_ytd</th>\n      <th>ev_percent</th>\n    </tr>\n  </thead>\n  <tbody>\n    <tr>\n      <th>300</th>\n      <td>RENAULT</td>\n      <td>ZOE</td>\n      <td>5010.0</td>\n      <td>20740</td>\n      <td>21.3</td>\n      <td>5010.0</td>\n      <td>20740.0</td>\n      <td>100.0</td>\n    </tr>\n    <tr>\n      <th>380</th>\n      <td>VW</td>\n      <td>ID.3</td>\n      <td>2647.0</td>\n      <td>4910</td>\n      <td>1.2</td>\n      <td>2647.0</td>\n      <td>4910.0</td>\n      <td>18.3</td>\n    </tr>\n    <tr>\n      <th>119</th>\n      <td>HYUNDAI</td>\n      <td>KONA</td>\n      <td>3583.0</td>\n      <td>21910</td>\n      <td>26.6</td>\n      <td>1932.0</td>\n      <td>8542.0</td>\n      <td>83.1</td>\n    </tr>\n    <tr>\n      <th>326</th>\n      <td>SMART</td>\n      <td>FORTWO</td>\n      <td>1846.0</td>\n      <td>7050</td>\n      <td>70.8</td>\n      <td>1846.0</td>\n      <td>7038.0</td>\n      <td>70.8</td>\n    </tr>\n    <tr>\n      <th>379</th>\n      <td>VW</td>\n      <td>GOLF</td>\n      <td>11290.0</td>\n      <td>112313</td>\n      <td>27.1</td>\n      <td>1300.0</td>\n      <td>13845.0</td>\n      <td>51.7</td>\n    </tr>\n    <tr>\n      <th>17</th>\n      <td>AUDI</td>\n      <td>E-TRON</td>\n      <td>1202.0</td>\n      <td>6654</td>\n      <td>3.8</td>\n      <td>1202.0</td>\n      <td>6654.0</td>\n      <td>97.4</td>\n    </tr>\n    <tr>\n      <th>32</th>\n      <td>BMW</td>\n      <td>I3</td>\n      <td>1179.0</td>\n      <td>6091</td>\n      <td>3.2</td>\n      <td>1179.0</td>\n      <td>6090.0</td>\n      <td>99.4</td>\n    </tr>\n    <tr>\n      <th>255</th>\n      <td>OPEL</td>\n      <td>CORSA</td>\n      <td>7185.0</td>\n      <td>40731</td>\n      <td>36.3</td>\n      <td>998.0</td>\n      <td>3252.0</td>\n      <td>82.9</td>\n    </tr>\n    <tr>\n      <th>391</th>\n      <td>VW</td>\n      <td>UP</td>\n      <td>3058.0</td>\n      <td>18669</td>\n      <td>4.5</td>\n      <td>990.0</td>\n      <td>6977.0</td>\n      <td>26.1</td>\n    </tr>\n    <tr>\n      <th>230</th>\n      <td>MINI</td>\n      <td>MINI</td>\n      <td>4347.0</td>\n      <td>36033</td>\n      <td>100.0</td>\n      <td>710.0</td>\n      <td>3129.0</td>\n      <td>100.0</td>\n    </tr>\n    <tr>\n      <th>325</th>\n      <td>SMART</td>\n      <td>FORFOUR</td>\n      <td>595.0</td>\n      <td>2905</td>\n      <td>29.2</td>\n      <td>595.0</td>\n      <td>2902.0</td>\n      <td>29.2</td>\n    </tr>\n    <tr>\n      <th>315</th>\n      <td>SKODA</td>\n      <td>CITIGO</td>\n      <td>493.0</td>\n      <td>3656</td>\n      <td>2.5</td>\n      <td>493.0</td>\n      <td>3508.0</td>\n      <td>99.9</td>\n    </tr>\n    <tr>\n      <th>268</th>\n      <td>PEUGEOT</td>\n      <td>208</td>\n      <td>1043.0</td>\n      <td>7490</td>\n      <td>16.9</td>\n      <td>488.0</td>\n      <td>1286.0</td>\n      <td>72.0</td>\n    </tr>\n    <tr>\n      <th>201</th>\n      <td>MAZDA</td>\n      <td>MX-30</td>\n      <td>453.0</td>\n      <td>1033</td>\n      <td>3.2</td>\n      <td>453.0</td>\n      <td>1033.0</td>\n      <td>97.3</td>\n    </tr>\n    <tr>\n      <th>148</th>\n      <td>KIA</td>\n      <td>NIRO</td>\n      <td>858.0</td>\n      <td>6294</td>\n      <td>11.8</td>\n      <td>421.0</td>\n      <td>2844.0</td>\n      <td>59.0</td>\n    </tr>\n    <tr>\n      <th>220</th>\n      <td>MERCEDES</td>\n      <td>GLK, GLC</td>\n      <td>4172.0</td>\n      <td>32438</td>\n      <td>13.5</td>\n      <td>421.0</td>\n      <td>1784.0</td>\n      <td>91.5</td>\n    </tr>\n    <tr>\n      <th>284</th>\n      <td>PORSCHE</td>\n      <td>TAYCAN</td>\n      <td>373.0</td>\n      <td>2186</td>\n      <td>10.5</td>\n      <td>373.0</td>\n      <td>2186.0</td>\n      <td>100.0</td>\n    </tr>\n    <tr>\n      <th>311</th>\n      <td>SEAT</td>\n      <td>MII</td>\n      <td>269.0</td>\n      <td>1510</td>\n      <td>1.6</td>\n      <td>269.0</td>\n      <td>1229.0</td>\n      <td>100.0</td>\n    </tr>\n    <tr>\n      <th>243</th>\n      <td>NISSAN</td>\n      <td>LEAF</td>\n      <td>263.0</td>\n      <td>2126</td>\n      <td>7.6</td>\n      <td>263.0</td>\n      <td>2126.0</td>\n      <td>84.4</td>\n    </tr>\n    <tr>\n      <th>271</th>\n      <td>PEUGEOT</td>\n      <td>2008</td>\n      <td>947.0</td>\n      <td>5820</td>\n      <td>13.1</td>\n      <td>186.0</td>\n      <td>339.0</td>\n      <td>19.0</td>\n    </tr>\n  </tbody>\n</table>\n</div>"
     },
     "execution_count": 90,
     "metadata": {},
     "output_type": "execute_result"
    }
   ],
   "source": [
    "df.columns = [\"manufacturer\",\"model\",\"all_oct\",\"all_ytd\",\"all_percent\",\"ev_oct\",\"ev_ytd\",\"ev_percent\"]\n",
    "cols = [\"all_oct\",\"ev_oct\",\"ev_ytd\",\"ev_percent\"] \n",
    "\n",
    "df[cols] = df[cols].apply(pd.to_numeric, errors='coerce', axis=1)\n",
    "df[[\"ev_oct\",\"ev_ytd\",\"ev_percent\"]] = df[[\"ev_oct\",\"ev_ytd\",\"ev_percent\"]].fillna(value=0)\n",
    "df[[\"manufacturer\",\"model\"]] = df[[\"manufacturer\",\"model\"]].fillna(method='ffill')\n",
    "df= df[~df['manufacturer'].str.contains('ZUSAMMEN')]\n",
    "df=df.sort_values(by=['ev_oct'],ascending=False)\n",
    "df.head(20)"
   ],
   "metadata": {
    "collapsed": false,
    "pycharm": {
     "name": "#%%\n"
    }
   }
  },
  {
   "cell_type": "code",
   "execution_count": 91,
   "outputs": [],
   "source": [
    "\n",
    "\n",
    "#ddf.head(20)"
   ],
   "metadata": {
    "collapsed": false,
    "pycharm": {
     "name": "#%%\n"
    }
   }
  },
  {
   "cell_type": "code",
   "execution_count": 92,
   "outputs": [],
   "source": [
    "#df2 = df.sort_values(by=['company'])"
   ],
   "metadata": {
    "collapsed": false,
    "pycharm": {
     "name": "#%%\n"
    }
   }
  },
  {
   "cell_type": "code",
   "execution_count": 93,
   "outputs": [],
   "source": [
    "#df.info\n",
    "#df.dtypes\n",
    "#df.describe()\n"
   ],
   "metadata": {
    "collapsed": false,
    "pycharm": {
     "name": "#%%\n"
    }
   }
  }
 ],
 "metadata": {
  "kernelspec": {
   "display_name": "Python 3",
   "language": "python",
   "name": "python3"
  },
  "language_info": {
   "codemirror_mode": {
    "name": "ipython",
    "version": 3
   },
   "file_extension": ".py",
   "mimetype": "text/x-python",
   "name": "python",
   "nbconvert_exporter": "python",
   "pygments_lexer": "ipython3",
   "version": "3.7.7"
  }
 },
 "nbformat": 4,
 "nbformat_minor": 4
}